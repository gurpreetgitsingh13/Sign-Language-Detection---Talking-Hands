{
 "cells": [
  {
   "cell_type": "code",
   "execution_count": 14,
   "id": "925dc9f4-5d2c-4551-8b26-a9fea61a8aa3",
   "metadata": {},
   "outputs": [
    {
     "name": "stdout",
     "output_type": "stream",
     "text": [
      "Skipping non-image file: .DS_Store\n",
      "Skipping non-image file: LICENSE\n"
     ]
    },
    {
     "ename": "IsADirectoryError",
     "evalue": "[Errno 21] Is a directory: '/Users/gurpreetsingh/Desktop/Hackathon/Sign-Language-Digits-Dataset-master/Dataset'",
     "output_type": "error",
     "traceback": [
      "\u001b[0;31m---------------------------------------------------------------------------\u001b[0m",
      "\u001b[0;31mIsADirectoryError\u001b[0m                         Traceback (most recent call last)",
      "Cell \u001b[0;32mIn[14], line 32\u001b[0m\n\u001b[1;32m     29\u001b[0m image_path \u001b[38;5;241m=\u001b[39m os\u001b[38;5;241m.\u001b[39mpath\u001b[38;5;241m.\u001b[39mjoin(label_path, image_name)\n\u001b[1;32m     31\u001b[0m \u001b[38;5;66;03m# Check if the file is an image\u001b[39;00m\n\u001b[0;32m---> 32\u001b[0m \u001b[38;5;28;01mif\u001b[39;00m imghdr\u001b[38;5;241m.\u001b[39mwhat(image_path):  \u001b[38;5;66;03m# Only process if the file is an image\u001b[39;00m\n\u001b[1;32m     33\u001b[0m     \u001b[38;5;28;01mtry\u001b[39;00m:\n\u001b[1;32m     34\u001b[0m         encoded_image \u001b[38;5;241m=\u001b[39m encode_image(image_path)\n",
      "File \u001b[0;32m/opt/anaconda3/lib/python3.11/imghdr.py:21\u001b[0m, in \u001b[0;36mwhat\u001b[0;34m(file, h)\u001b[0m\n\u001b[1;32m     19\u001b[0m \u001b[38;5;28;01mif\u001b[39;00m h \u001b[38;5;129;01mis\u001b[39;00m \u001b[38;5;28;01mNone\u001b[39;00m:\n\u001b[1;32m     20\u001b[0m     \u001b[38;5;28;01mif\u001b[39;00m \u001b[38;5;28misinstance\u001b[39m(file, (\u001b[38;5;28mstr\u001b[39m, PathLike)):\n\u001b[0;32m---> 21\u001b[0m         f \u001b[38;5;241m=\u001b[39m \u001b[38;5;28mopen\u001b[39m(file, \u001b[38;5;124m'\u001b[39m\u001b[38;5;124mrb\u001b[39m\u001b[38;5;124m'\u001b[39m)\n\u001b[1;32m     22\u001b[0m         h \u001b[38;5;241m=\u001b[39m f\u001b[38;5;241m.\u001b[39mread(\u001b[38;5;241m32\u001b[39m)\n\u001b[1;32m     23\u001b[0m     \u001b[38;5;28;01melse\u001b[39;00m:\n",
      "\u001b[0;31mIsADirectoryError\u001b[0m: [Errno 21] Is a directory: '/Users/gurpreetsingh/Desktop/Hackathon/Sign-Language-Digits-Dataset-master/Dataset'"
     ]
    }
   ],
   "source": [
    "from pymongo import MongoClient\n",
    "import os\n",
    "from PIL import Image\n",
    "import base64\n",
    "import imghdr\n",
    "\n",
    "# Connect to MongoDB Atlas\n",
    "mongo_uri = os.getenv(\"MONGO_URI\")\n",
    "client = MongoClient(mongo_uri)\n",
    "db = client[\"sign_language_interpreter\"]\n",
    "collection = db[\"sign_gestures\"]\n",
    "\n",
    "# Path to your dataset\n",
    "dataset_path = \"/Users/gurpreetsingh/Desktop/Hackathon\"\n",
    "\n",
    "def encode_image(image_path):\n",
    "    with open(image_path, \"rb\") as img_file:\n",
    "        img_data = img_file.read()\n",
    "        # Optionally resize or compress images before encoding\n",
    "        image = Image.open(image_path)\n",
    "        image = image.resize((256, 256))  # Resize if the images are too large\n",
    "        return base64.b64encode(img_data).decode(\"utf-8\")\n",
    "\n",
    "# Loop through dataset and upload images\n",
    "for label in os.listdir(dataset_path):\n",
    "    label_path = os.path.join(dataset_path, label)\n",
    "    if os.path.isdir(label_path):\n",
    "        for image_name in os.listdir(label_path):\n",
    "            image_path = os.path.join(label_path, image_name)\n",
    "            \n",
    "            # Check if the file is an image\n",
    "            if imghdr.what(image_path):  # Only process if the file is an image\n",
    "                try:\n",
    "                    encoded_image = encode_image(image_path)\n",
    "                    # Insert each image as a document with label and image data\n",
    "                    collection.insert_one({\"label\": label, \"image_data\": encoded_image})\n",
    "                except Exception as e:\n",
    "                    print(f\"Error processing {image_name}: {e}\")\n",
    "            else:\n",
    "                print(f\"Skipping non-image file: {image_name}\")\n",
    "\n",
    "print(\"Data ingestion completed!\")\n"
   ]
  },
  {
   "cell_type": "code",
   "execution_count": 16,
   "id": "381e4e74-c951-41ed-8816-664e0863dca3",
   "metadata": {},
   "outputs": [
    {
     "name": "stdout",
     "output_type": "stream",
     "text": [
      "Skipping non-image file or directory: .DS_Store\n",
      "Skipping non-image file or directory: LICENSE\n",
      "Skipping non-image file or directory: Dataset\n",
      "Skipping non-image file or directory: README.md\n",
      "Skipping non-image file or directory: Examples\n",
      "Skipping non-image file or directory: Untitled-checkpoint.ipynb\n",
      "Skipping non-image file or directory: .DS_Store\n",
      "Skipping non-image file or directory: 9\n",
      "Skipping non-image file or directory: 0\n",
      "Skipping non-image file or directory: 7\n",
      "Skipping non-image file or directory: 6\n",
      "Skipping non-image file or directory: 1\n",
      "Skipping non-image file or directory: 8\n",
      "Skipping non-image file or directory: 4\n",
      "Skipping non-image file or directory: 3\n",
      "Skipping non-image file or directory: 2\n",
      "Skipping non-image file or directory: 5\n",
      "Data ingestion completed!\n"
     ]
    }
   ],
   "source": [
    "from pymongo import MongoClient\n",
    "import os\n",
    "from PIL import Image\n",
    "import base64\n",
    "import imghdr\n",
    "\n",
    "# Connect to MongoDB Atlas using environment variable for URI\n",
    "mongo_uri = os.getenv(\"MONGO_URI\")\n",
    "client = MongoClient(mongo_uri)\n",
    "db = client[\"sign_language_interpreter\"]\n",
    "collection = db[\"sign_gestures\"]\n",
    "\n",
    "# Path to your dataset\n",
    "dataset_path = \"/Users/gurpreetsingh/Desktop/Hackathon\"\n",
    "\n",
    "def encode_image(image_path):\n",
    "    with open(image_path, \"rb\") as img_file:\n",
    "        img_data = img_file.read()\n",
    "        # Optionally resize or compress images before encoding\n",
    "        image = Image.open(image_path)\n",
    "        image = image.resize((256, 256))  # Resize if the images are too large\n",
    "        return base64.b64encode(img_data).decode(\"utf-8\")\n",
    "\n",
    "# Loop through dataset and upload images\n",
    "for label in os.listdir(dataset_path):\n",
    "    label_path = os.path.join(dataset_path, label)\n",
    "    if os.path.isdir(label_path):\n",
    "        for image_name in os.listdir(label_path):\n",
    "            image_path = os.path.join(label_path, image_name)\n",
    "            \n",
    "            # Check if it's a file and then check if it's an image\n",
    "            if os.path.isfile(image_path) and imghdr.what(image_path):  # Only process if the file is an image\n",
    "                try:\n",
    "                    encoded_image = encode_image(image_path)\n",
    "                    # Insert each image as a document with label and image data\n",
    "                    collection.insert_one({\"label\": label, \"image_data\": encoded_image})\n",
    "                except Exception as e:\n",
    "                    print(f\"Error processing {image_name}: {e}\")\n",
    "            else:\n",
    "                print(f\"Skipping non-image file or directory: {image_name}\")\n",
    "\n",
    "print(\"Data ingestion completed!\")\n"
   ]
  },
  {
   "cell_type": "code",
   "execution_count": null,
   "id": "d67e2fb8-4096-4f4f-b6a8-ff4a8747c7f0",
   "metadata": {},
   "outputs": [],
   "source": []
  }
 ],
 "metadata": {
  "kernelspec": {
   "display_name": "Python 3 (ipykernel)",
   "language": "python",
   "name": "python3"
  },
  "language_info": {
   "codemirror_mode": {
    "name": "ipython",
    "version": 3
   },
   "file_extension": ".py",
   "mimetype": "text/x-python",
   "name": "python",
   "nbconvert_exporter": "python",
   "pygments_lexer": "ipython3",
   "version": "3.11.7"
  }
 },
 "nbformat": 4,
 "nbformat_minor": 5
}
